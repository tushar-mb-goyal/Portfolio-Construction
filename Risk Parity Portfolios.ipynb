{
 "cells": [
  {
   "cell_type": "code",
   "execution_count": 1,
   "metadata": {},
   "outputs": [],
   "source": [
    "import datetime as dt\n",
    "import pandas_datareader.data as web\n",
    "from matplotlib import style\n",
    "import matplotlib.pyplot as plt\n",
    "import math \n",
    "import numpy as np\n",
    "import yfinance as yf\n",
    "import pandas as pd\n",
    "from scipy import optimize as scopti\n",
    "import bs4 as bs\n",
    "import pickle\n",
    "import requests"
   ]
  },
  {
   "cell_type": "code",
   "execution_count": 2,
   "metadata": {},
   "outputs": [],
   "source": [
    "import data\n",
    "import risk_metrics as rm\n",
    "import markowitz_construction as mc\n",
    "import risk_budgeted_construction as rbc"
   ]
  },
  {
   "cell_type": "markdown",
   "metadata": {},
   "source": [
    "### Extracting Dow Jones Industrial Avg Index & Caculating Statistics of all its Constituents"
   ]
  },
  {
   "cell_type": "code",
   "execution_count": 3,
   "metadata": {},
   "outputs": [],
   "source": [
    "def djia_components():\n",
    "    resp = requests.get('https://en.wikipedia.org/wiki/Dow_Jones_Industrial_Average')\n",
    "    soup = bs.BeautifulSoup(resp.text, 'lxml')\n",
    "    table = soup.find('table', {'class': 'wikitable sortable'})\n",
    "    tickers = []\n",
    "    for row in table.findAll('tr')[1:]:\n",
    "        ticker = row.findAll('td')[1].text\n",
    "        tickers.append(ticker.rsplit(\":\")[-1].strip())\n",
    "  \n",
    "    return tickers "
   ]
  },
  {
   "cell_type": "code",
   "execution_count": 4,
   "metadata": {},
   "outputs": [],
   "source": [
    "tickers_list=['^DJI']+djia_components()"
   ]
  },
  {
   "cell_type": "code",
   "execution_count": 5,
   "metadata": {
    "scrolled": true
   },
   "outputs": [
    {
     "name": "stdout",
     "output_type": "stream",
     "text": [
      "[*********************100%***********************]  1 of 1 completed\n",
      "[*********************100%***********************]  1 of 1 completed\n",
      "[*********************100%***********************]  1 of 1 completed\n",
      "[*********************100%***********************]  1 of 1 completed\n",
      "[*********************100%***********************]  1 of 1 completed\n",
      "[*********************100%***********************]  1 of 1 completed\n",
      "[*********************100%***********************]  1 of 1 completed\n",
      "[*********************100%***********************]  1 of 1 completed\n",
      "[*********************100%***********************]  1 of 1 completed\n",
      "[*********************100%***********************]  1 of 1 completed\n",
      "[*********************100%***********************]  1 of 1 completed\n",
      "[*********************100%***********************]  1 of 1 completed\n",
      "[*********************100%***********************]  1 of 1 completed\n",
      "[*********************100%***********************]  1 of 1 completed\n",
      "[*********************100%***********************]  1 of 1 completed\n",
      "[*********************100%***********************]  1 of 1 completed\n",
      "[*********************100%***********************]  1 of 1 completed\n",
      "[*********************100%***********************]  1 of 1 completed\n",
      "[*********************100%***********************]  1 of 1 completed\n",
      "[*********************100%***********************]  1 of 1 completed\n",
      "[*********************100%***********************]  1 of 1 completed\n",
      "[*********************100%***********************]  1 of 1 completed\n",
      "[*********************100%***********************]  1 of 1 completed\n",
      "[*********************100%***********************]  1 of 1 completed\n",
      "[*********************100%***********************]  1 of 1 completed\n",
      "[*********************100%***********************]  1 of 1 completed\n",
      "[*********************100%***********************]  1 of 1 completed\n",
      "[*********************100%***********************]  1 of 1 completed\n",
      "[*********************100%***********************]  1 of 1 completed\n",
      "[*********************100%***********************]  1 of 1 completed\n",
      "[*********************100%***********************]  1 of 1 completed\n"
     ]
    }
   ],
   "source": [
    "prices=data.data_pandas_reader_tenor(tickers_list,'2y','1d',field='Adj Close')"
   ]
  },
  {
   "cell_type": "code",
   "execution_count": 6,
   "metadata": {},
   "outputs": [],
   "source": [
    "prices2=prices.dropna(axis=1)\n",
    "gross_returns=mc.stock_returns(prices2)"
   ]
  },
  {
   "cell_type": "code",
   "execution_count": 7,
   "metadata": {
    "scrolled": true
   },
   "outputs": [],
   "source": [
    "summary=rm.summary_stats(gross_returns, 0.01,period_freq=252).sort_values(by=['Sharpe Ratio','Max Drawdown'], ascending=False)"
   ]
  },
  {
   "cell_type": "markdown",
   "metadata": {},
   "source": [
    "### Creating a set of Risky Stocks using Top 15 Dow Jones Stocks over 2 years"
   ]
  },
  {
   "cell_type": "code",
   "execution_count": 8,
   "metadata": {},
   "outputs": [
    {
     "data": {
      "text/html": [
       "<div>\n",
       "<style scoped>\n",
       "    .dataframe tbody tr th:only-of-type {\n",
       "        vertical-align: middle;\n",
       "    }\n",
       "\n",
       "    .dataframe tbody tr th {\n",
       "        vertical-align: top;\n",
       "    }\n",
       "\n",
       "    .dataframe thead th {\n",
       "        text-align: right;\n",
       "    }\n",
       "</style>\n",
       "<table border=\"1\" class=\"dataframe\">\n",
       "  <thead>\n",
       "    <tr style=\"text-align: right;\">\n",
       "      <th></th>\n",
       "      <th>AAPL</th>\n",
       "      <th>MSFT</th>\n",
       "      <th>HD</th>\n",
       "      <th>UNH</th>\n",
       "      <th>NKE</th>\n",
       "      <th>GS</th>\n",
       "      <th>MCD</th>\n",
       "      <th>PG</th>\n",
       "      <th>CRM</th>\n",
       "      <th>CAT</th>\n",
       "      <th>CSCO</th>\n",
       "      <th>JNJ</th>\n",
       "      <th>WMT</th>\n",
       "      <th>AXP</th>\n",
       "    </tr>\n",
       "    <tr>\n",
       "      <th>Date</th>\n",
       "      <th></th>\n",
       "      <th></th>\n",
       "      <th></th>\n",
       "      <th></th>\n",
       "      <th></th>\n",
       "      <th></th>\n",
       "      <th></th>\n",
       "      <th></th>\n",
       "      <th></th>\n",
       "      <th></th>\n",
       "      <th></th>\n",
       "      <th></th>\n",
       "      <th></th>\n",
       "      <th></th>\n",
       "    </tr>\n",
       "  </thead>\n",
       "  <tbody>\n",
       "    <tr>\n",
       "      <td>2021-12-17</td>\n",
       "      <td>-0.006502</td>\n",
       "      <td>-0.003386</td>\n",
       "      <td>-0.028909</td>\n",
       "      <td>-0.011646</td>\n",
       "      <td>-0.008358</td>\n",
       "      <td>-0.039183</td>\n",
       "      <td>-0.014498</td>\n",
       "      <td>-0.022655</td>\n",
       "      <td>-0.000751</td>\n",
       "      <td>-0.023282</td>\n",
       "      <td>0.002487</td>\n",
       "      <td>-0.027628</td>\n",
       "      <td>-0.032022</td>\n",
       "      <td>-0.018344</td>\n",
       "    </tr>\n",
       "    <tr>\n",
       "      <td>2021-12-20</td>\n",
       "      <td>-0.008122</td>\n",
       "      <td>-0.012014</td>\n",
       "      <td>0.003660</td>\n",
       "      <td>-0.006959</td>\n",
       "      <td>-0.027144</td>\n",
       "      <td>-0.026689</td>\n",
       "      <td>0.000115</td>\n",
       "      <td>0.002540</td>\n",
       "      <td>-0.022615</td>\n",
       "      <td>-0.029349</td>\n",
       "      <td>-0.001654</td>\n",
       "      <td>-0.002853</td>\n",
       "      <td>0.003243</td>\n",
       "      <td>-0.025748</td>\n",
       "    </tr>\n",
       "    <tr>\n",
       "      <td>2021-12-21</td>\n",
       "      <td>0.019087</td>\n",
       "      <td>0.023069</td>\n",
       "      <td>0.002748</td>\n",
       "      <td>0.007194</td>\n",
       "      <td>0.061473</td>\n",
       "      <td>0.023439</td>\n",
       "      <td>0.010163</td>\n",
       "      <td>-0.000634</td>\n",
       "      <td>0.021601</td>\n",
       "      <td>0.014581</td>\n",
       "      <td>0.011100</td>\n",
       "      <td>-0.003219</td>\n",
       "      <td>0.003017</td>\n",
       "      <td>0.032202</td>\n",
       "    </tr>\n",
       "    <tr>\n",
       "      <td>2021-12-22</td>\n",
       "      <td>0.015319</td>\n",
       "      <td>0.018057</td>\n",
       "      <td>0.013240</td>\n",
       "      <td>0.014203</td>\n",
       "      <td>-0.007142</td>\n",
       "      <td>0.005285</td>\n",
       "      <td>0.002080</td>\n",
       "      <td>0.009889</td>\n",
       "      <td>0.000990</td>\n",
       "      <td>0.019364</td>\n",
       "      <td>0.008193</td>\n",
       "      <td>0.004306</td>\n",
       "      <td>0.001289</td>\n",
       "      <td>0.009695</td>\n",
       "    </tr>\n",
       "    <tr>\n",
       "      <td>2021-12-23</td>\n",
       "      <td>0.003644</td>\n",
       "      <td>0.004472</td>\n",
       "      <td>0.003614</td>\n",
       "      <td>0.002530</td>\n",
       "      <td>0.001390</td>\n",
       "      <td>0.007088</td>\n",
       "      <td>0.003812</td>\n",
       "      <td>0.004896</td>\n",
       "      <td>0.001345</td>\n",
       "      <td>0.020035</td>\n",
       "      <td>0.012189</td>\n",
       "      <td>0.001906</td>\n",
       "      <td>-0.002217</td>\n",
       "      <td>0.010587</td>\n",
       "    </tr>\n",
       "  </tbody>\n",
       "</table>\n",
       "</div>"
      ],
      "text/plain": [
       "                AAPL      MSFT        HD       UNH       NKE        GS  \\\n",
       "Date                                                                     \n",
       "2021-12-17 -0.006502 -0.003386 -0.028909 -0.011646 -0.008358 -0.039183   \n",
       "2021-12-20 -0.008122 -0.012014  0.003660 -0.006959 -0.027144 -0.026689   \n",
       "2021-12-21  0.019087  0.023069  0.002748  0.007194  0.061473  0.023439   \n",
       "2021-12-22  0.015319  0.018057  0.013240  0.014203 -0.007142  0.005285   \n",
       "2021-12-23  0.003644  0.004472  0.003614  0.002530  0.001390  0.007088   \n",
       "\n",
       "                 MCD        PG       CRM       CAT      CSCO       JNJ  \\\n",
       "Date                                                                     \n",
       "2021-12-17 -0.014498 -0.022655 -0.000751 -0.023282  0.002487 -0.027628   \n",
       "2021-12-20  0.000115  0.002540 -0.022615 -0.029349 -0.001654 -0.002853   \n",
       "2021-12-21  0.010163 -0.000634  0.021601  0.014581  0.011100 -0.003219   \n",
       "2021-12-22  0.002080  0.009889  0.000990  0.019364  0.008193  0.004306   \n",
       "2021-12-23  0.003812  0.004896  0.001345  0.020035  0.012189  0.001906   \n",
       "\n",
       "                 WMT       AXP  \n",
       "Date                            \n",
       "2021-12-17 -0.032022 -0.018344  \n",
       "2021-12-20  0.003243 -0.025748  \n",
       "2021-12-21  0.003017  0.032202  \n",
       "2021-12-22  0.001289  0.009695  \n",
       "2021-12-23 -0.002217  0.010587  "
      ]
     },
     "execution_count": 8,
     "metadata": {},
     "output_type": "execute_result"
    }
   ],
   "source": [
    "constituents=summary.index[0:15]\n",
    "constituent_prices=prices2[constituents].drop(['^DJI'], axis=1)\n",
    "equity_portfolio=pd.DataFrame(mc.stock_returns(constituent_prices))\n",
    "equity_portfolio.tail()"
   ]
  },
  {
   "cell_type": "markdown",
   "metadata": {},
   "source": [
    "### Using Treasury  ETFs as safe assets"
   ]
  },
  {
   "cell_type": "code",
   "execution_count": 9,
   "metadata": {},
   "outputs": [
    {
     "name": "stdout",
     "output_type": "stream",
     "text": [
      "[*********************100%***********************]  1 of 1 completed\n",
      "[*********************100%***********************]  1 of 1 completed\n"
     ]
    }
   ],
   "source": [
    "bond_etf=data.data_pandas_reader_tenor(['AGG','TIP'],'2y','1d',field='Adj Close')"
   ]
  },
  {
   "cell_type": "code",
   "execution_count": 10,
   "metadata": {},
   "outputs": [
    {
     "data": {
      "text/html": [
       "<div>\n",
       "<style scoped>\n",
       "    .dataframe tbody tr th:only-of-type {\n",
       "        vertical-align: middle;\n",
       "    }\n",
       "\n",
       "    .dataframe tbody tr th {\n",
       "        vertical-align: top;\n",
       "    }\n",
       "\n",
       "    .dataframe thead th {\n",
       "        text-align: right;\n",
       "    }\n",
       "</style>\n",
       "<table border=\"1\" class=\"dataframe\">\n",
       "  <thead>\n",
       "    <tr style=\"text-align: right;\">\n",
       "      <th></th>\n",
       "      <th>AGG</th>\n",
       "      <th>TIP</th>\n",
       "    </tr>\n",
       "    <tr>\n",
       "      <th>Date</th>\n",
       "      <th></th>\n",
       "      <th></th>\n",
       "    </tr>\n",
       "  </thead>\n",
       "  <tbody>\n",
       "    <tr>\n",
       "      <td>2021-12-17</td>\n",
       "      <td>0.001224</td>\n",
       "      <td>0.000078</td>\n",
       "    </tr>\n",
       "    <tr>\n",
       "      <td>2021-12-20</td>\n",
       "      <td>-0.001485</td>\n",
       "      <td>-0.000547</td>\n",
       "    </tr>\n",
       "    <tr>\n",
       "      <td>2021-12-21</td>\n",
       "      <td>-0.000787</td>\n",
       "      <td>0.002190</td>\n",
       "    </tr>\n",
       "    <tr>\n",
       "      <td>2021-12-22</td>\n",
       "      <td>0.000875</td>\n",
       "      <td>0.003200</td>\n",
       "    </tr>\n",
       "    <tr>\n",
       "      <td>2021-12-23</td>\n",
       "      <td>-0.001224</td>\n",
       "      <td>-0.002257</td>\n",
       "    </tr>\n",
       "  </tbody>\n",
       "</table>\n",
       "</div>"
      ],
      "text/plain": [
       "                 AGG       TIP\n",
       "Date                          \n",
       "2021-12-17  0.001224  0.000078\n",
       "2021-12-20 -0.001485 -0.000547\n",
       "2021-12-21 -0.000787  0.002190\n",
       "2021-12-22  0.000875  0.003200\n",
       "2021-12-23 -0.001224 -0.002257"
      ]
     },
     "execution_count": 10,
     "metadata": {},
     "output_type": "execute_result"
    }
   ],
   "source": [
    "bond_portfolio= pd.DataFrame(mc.stock_returns(bond_etf))\n",
    "bond_portfolio.tail()"
   ]
  },
  {
   "cell_type": "code",
   "execution_count": 11,
   "metadata": {
    "scrolled": true
   },
   "outputs": [
    {
     "data": {
      "text/html": [
       "<div>\n",
       "<style scoped>\n",
       "    .dataframe tbody tr th:only-of-type {\n",
       "        vertical-align: middle;\n",
       "    }\n",
       "\n",
       "    .dataframe tbody tr th {\n",
       "        vertical-align: top;\n",
       "    }\n",
       "\n",
       "    .dataframe thead th {\n",
       "        text-align: right;\n",
       "    }\n",
       "</style>\n",
       "<table border=\"1\" class=\"dataframe\">\n",
       "  <thead>\n",
       "    <tr style=\"text-align: right;\">\n",
       "      <th></th>\n",
       "      <th>AAPL</th>\n",
       "      <th>MSFT</th>\n",
       "      <th>HD</th>\n",
       "      <th>UNH</th>\n",
       "      <th>NKE</th>\n",
       "      <th>GS</th>\n",
       "      <th>MCD</th>\n",
       "      <th>PG</th>\n",
       "      <th>CRM</th>\n",
       "      <th>CAT</th>\n",
       "      <th>CSCO</th>\n",
       "      <th>JNJ</th>\n",
       "      <th>WMT</th>\n",
       "      <th>AXP</th>\n",
       "      <th>AGG</th>\n",
       "      <th>TIP</th>\n",
       "    </tr>\n",
       "    <tr>\n",
       "      <th>Date</th>\n",
       "      <th></th>\n",
       "      <th></th>\n",
       "      <th></th>\n",
       "      <th></th>\n",
       "      <th></th>\n",
       "      <th></th>\n",
       "      <th></th>\n",
       "      <th></th>\n",
       "      <th></th>\n",
       "      <th></th>\n",
       "      <th></th>\n",
       "      <th></th>\n",
       "      <th></th>\n",
       "      <th></th>\n",
       "      <th></th>\n",
       "      <th></th>\n",
       "    </tr>\n",
       "  </thead>\n",
       "  <tbody>\n",
       "    <tr>\n",
       "      <td>2019-12-26</td>\n",
       "      <td>0.019841</td>\n",
       "      <td>0.008196</td>\n",
       "      <td>0.000680</td>\n",
       "      <td>0.003769</td>\n",
       "      <td>0.005692</td>\n",
       "      <td>0.005654</td>\n",
       "      <td>0.001983</td>\n",
       "      <td>0.000000</td>\n",
       "      <td>0.007718</td>\n",
       "      <td>0.005018</td>\n",
       "      <td>0.001465</td>\n",
       "      <td>-0.000685</td>\n",
       "      <td>0.000084</td>\n",
       "      <td>0.005371</td>\n",
       "      <td>0.000890</td>\n",
       "      <td>0.000687</td>\n",
       "    </tr>\n",
       "    <tr>\n",
       "      <td>2019-12-27</td>\n",
       "      <td>-0.000379</td>\n",
       "      <td>0.001828</td>\n",
       "      <td>-0.003849</td>\n",
       "      <td>0.001082</td>\n",
       "      <td>0.008539</td>\n",
       "      <td>-0.002379</td>\n",
       "      <td>0.005633</td>\n",
       "      <td>0.006948</td>\n",
       "      <td>0.002857</td>\n",
       "      <td>0.000405</td>\n",
       "      <td>-0.001672</td>\n",
       "      <td>-0.000549</td>\n",
       "      <td>0.000586</td>\n",
       "      <td>-0.001754</td>\n",
       "      <td>0.001334</td>\n",
       "      <td>0.000343</td>\n",
       "    </tr>\n",
       "    <tr>\n",
       "      <td>2019-12-30</td>\n",
       "      <td>0.005935</td>\n",
       "      <td>-0.008619</td>\n",
       "      <td>-0.012092</td>\n",
       "      <td>-0.007163</td>\n",
       "      <td>-0.007581</td>\n",
       "      <td>-0.003728</td>\n",
       "      <td>-0.006358</td>\n",
       "      <td>-0.012848</td>\n",
       "      <td>-0.015396</td>\n",
       "      <td>-0.005126</td>\n",
       "      <td>-0.003768</td>\n",
       "      <td>-0.003088</td>\n",
       "      <td>-0.001589</td>\n",
       "      <td>-0.007109</td>\n",
       "      <td>0.000000</td>\n",
       "      <td>0.000343</td>\n",
       "    </tr>\n",
       "    <tr>\n",
       "      <td>2019-12-31</td>\n",
       "      <td>0.007307</td>\n",
       "      <td>0.000698</td>\n",
       "      <td>0.004924</td>\n",
       "      <td>0.000443</td>\n",
       "      <td>0.005059</td>\n",
       "      <td>0.000566</td>\n",
       "      <td>0.003555</td>\n",
       "      <td>0.003455</td>\n",
       "      <td>0.001231</td>\n",
       "      <td>0.001084</td>\n",
       "      <td>0.007775</td>\n",
       "      <td>0.003923</td>\n",
       "      <td>-0.004690</td>\n",
       "      <td>0.001528</td>\n",
       "      <td>-0.002308</td>\n",
       "      <td>-0.001028</td>\n",
       "    </tr>\n",
       "    <tr>\n",
       "      <td>2020-01-02</td>\n",
       "      <td>0.022816</td>\n",
       "      <td>0.018516</td>\n",
       "      <td>0.005862</td>\n",
       "      <td>-0.005034</td>\n",
       "      <td>0.008785</td>\n",
       "      <td>0.019093</td>\n",
       "      <td>0.016092</td>\n",
       "      <td>-0.011929</td>\n",
       "      <td>0.026746</td>\n",
       "      <td>0.019299</td>\n",
       "      <td>0.017013</td>\n",
       "      <td>0.000686</td>\n",
       "      <td>0.000841</td>\n",
       "      <td>0.014428</td>\n",
       "      <td>0.002759</td>\n",
       "      <td>0.004890</td>\n",
       "    </tr>\n",
       "  </tbody>\n",
       "</table>\n",
       "</div>"
      ],
      "text/plain": [
       "                AAPL      MSFT        HD       UNH       NKE        GS  \\\n",
       "Date                                                                     \n",
       "2019-12-26  0.019841  0.008196  0.000680  0.003769  0.005692  0.005654   \n",
       "2019-12-27 -0.000379  0.001828 -0.003849  0.001082  0.008539 -0.002379   \n",
       "2019-12-30  0.005935 -0.008619 -0.012092 -0.007163 -0.007581 -0.003728   \n",
       "2019-12-31  0.007307  0.000698  0.004924  0.000443  0.005059  0.000566   \n",
       "2020-01-02  0.022816  0.018516  0.005862 -0.005034  0.008785  0.019093   \n",
       "\n",
       "                 MCD        PG       CRM       CAT      CSCO       JNJ  \\\n",
       "Date                                                                     \n",
       "2019-12-26  0.001983  0.000000  0.007718  0.005018  0.001465 -0.000685   \n",
       "2019-12-27  0.005633  0.006948  0.002857  0.000405 -0.001672 -0.000549   \n",
       "2019-12-30 -0.006358 -0.012848 -0.015396 -0.005126 -0.003768 -0.003088   \n",
       "2019-12-31  0.003555  0.003455  0.001231  0.001084  0.007775  0.003923   \n",
       "2020-01-02  0.016092 -0.011929  0.026746  0.019299  0.017013  0.000686   \n",
       "\n",
       "                 WMT       AXP       AGG       TIP  \n",
       "Date                                                \n",
       "2019-12-26  0.000084  0.005371  0.000890  0.000687  \n",
       "2019-12-27  0.000586 -0.001754  0.001334  0.000343  \n",
       "2019-12-30 -0.001589 -0.007109  0.000000  0.000343  \n",
       "2019-12-31 -0.004690  0.001528 -0.002308 -0.001028  \n",
       "2020-01-02  0.000841  0.014428  0.002759  0.004890  "
      ]
     },
     "execution_count": 11,
     "metadata": {},
     "output_type": "execute_result"
    }
   ],
   "source": [
    "portfolio= equity_portfolio.merge(bond_portfolio,how='left',left_index=True, right_index=True)\n",
    "portfolio.head()"
   ]
  },
  {
   "cell_type": "markdown",
   "metadata": {},
   "source": [
    "### Assigning Equal Risk Weights for both portfolios using Risk Budgeting Framework leading to the Risk Parity Portfolio (RPP), which is a special case of Risk Budgeted Portfolios"
   ]
  },
  {
   "cell_type": "code",
   "execution_count": 12,
   "metadata": {},
   "outputs": [
    {
     "data": {
      "text/plain": [
       "array([0.02343285, 0.02342609, 0.02332081, 0.02408661, 0.02680374,\n",
       "       0.0210737 , 0.02711572, 0.03718303, 0.0244158 , 0.02765454,\n",
       "       0.02652568, 0.04096354, 0.04662431, 0.01823845, 0.26271489,\n",
       "       0.34642024])"
      ]
     },
     "execution_count": 12,
     "metadata": {},
     "output_type": "execute_result"
    }
   ],
   "source": [
    "n=portfolio.shape[1]\n",
    "n_equity=equity_portfolio.shape[1]\n",
    "n_bond=bond_portfolio.shape[1]\n",
    "\n",
    "risk_budget=np.append(np.repeat(1/n_equity,n_equity),np.repeat(1/n_bond,n_bond)).reshape(-1,1)\n",
    "optimal_weights=rbc.risk_budgeted_backtest(equity_portfolio, bond_portfolio, risk_budget)\n",
    "rpp_portfolio=portfolio.dot(optimal_weights)\n",
    "optimal_weights"
   ]
  },
  {
   "cell_type": "code",
   "execution_count": 13,
   "metadata": {},
   "outputs": [
    {
     "data": {
      "text/plain": [
       "<matplotlib.legend.Legend at 0x1bf35c7d548>"
      ]
     },
     "execution_count": 13,
     "metadata": {},
     "output_type": "execute_result"
    },
    {
     "data": {
      "image/png": "[encoded data removed]",
      "text/plain": [
       "<Figure size 1080x720 with 1 Axes>"
      ]
     },
     "metadata": {
      "needs_background": "light"
     },
     "output_type": "display_data"
    }
   ],
   "source": [
    "ax=mc.cumulative_returns(gross_returns['^DJI']).plot.line(x=\"Date\", y=\"Cumulative Returns\",figsize=(15,10), \n",
    "                                                                label='DJIA Index')\n",
    "ax.plot(mc.cumulative_returns(portfolio.dot(risk_budget)),color='green', label='Equally weighted (EW) portfolio]')\n",
    "ax.plot(mc.cumulative_returns(rpp_portfolio),color='red', label='Risk Parity Portfolio (50-50)')\n",
    "plt.legend()"
   ]
  },
  {
   "cell_type": "code",
   "execution_count": 15,
   "metadata": {},
   "outputs": [],
   "source": [
    "concat_rets=pd.concat([gross_returns['^DJI'],portfolio.dot(risk_budget), rpp_portfolio], axis=1)\n",
    "concat_rets.columns=['DJIA Index','Equally Weighted', 'Risk Parity Portfolio (50-50)']"
   ]
  },
  {
   "cell_type": "code",
   "execution_count": 16,
   "metadata": {},
   "outputs": [
    {
     "data": {
      "text/html": [
       "<div>\n",
       "<style scoped>\n",
       "    .dataframe tbody tr th:only-of-type {\n",
       "        vertical-align: middle;\n",
       "    }\n",
       "\n",
       "    .dataframe tbody tr th {\n",
       "        vertical-align: top;\n",
       "    }\n",
       "\n",
       "    .dataframe thead th {\n",
       "        text-align: right;\n",
       "    }\n",
       "</style>\n",
       "<table border=\"1\" class=\"dataframe\">\n",
       "  <thead>\n",
       "    <tr style=\"text-align: right;\">\n",
       "      <th></th>\n",
       "      <th>Annualized Return</th>\n",
       "      <th>Annualized Vol</th>\n",
       "      <th>Skewness</th>\n",
       "      <th>Excess Kurtosis</th>\n",
       "      <th>Cornish-Fisher VaR (5%)</th>\n",
       "      <th>Gaussian VaR (5%)</th>\n",
       "      <th>Historic CVaR (5%)</th>\n",
       "      <th>Sharpe Ratio</th>\n",
       "      <th>Max Drawdown</th>\n",
       "    </tr>\n",
       "  </thead>\n",
       "  <tbody>\n",
       "    <tr>\n",
       "      <td>DJIA Index</td>\n",
       "      <td>0.122827</td>\n",
       "      <td>0.274559</td>\n",
       "      <td>-0.584380</td>\n",
       "      <td>15.436635</td>\n",
       "      <td>0.025187</td>\n",
       "      <td>0.027810</td>\n",
       "      <td>0.043137</td>\n",
       "      <td>0.406880</td>\n",
       "      <td>-0.370862</td>\n",
       "    </tr>\n",
       "    <tr>\n",
       "      <td>Equally Weighted</td>\n",
       "      <td>0.362051</td>\n",
       "      <td>0.269465</td>\n",
       "      <td>-0.485455</td>\n",
       "      <td>18.729323</td>\n",
       "      <td>0.022377</td>\n",
       "      <td>0.026521</td>\n",
       "      <td>0.040334</td>\n",
       "      <td>1.293596</td>\n",
       "      <td>-0.319287</td>\n",
       "    </tr>\n",
       "    <tr>\n",
       "      <td>Risk Parity Portfolio (50-50)</td>\n",
       "      <td>0.144134</td>\n",
       "      <td>0.102842</td>\n",
       "      <td>-0.711847</td>\n",
       "      <td>19.424045</td>\n",
       "      <td>0.008801</td>\n",
       "      <td>0.010090</td>\n",
       "      <td>0.015339</td>\n",
       "      <td>1.291417</td>\n",
       "      <td>-0.134431</td>\n",
       "    </tr>\n",
       "  </tbody>\n",
       "</table>\n",
       "</div>"
      ],
      "text/plain": [
       "                               Annualized Return  Annualized Vol  Skewness  \\\n",
       "DJIA Index                              0.122827        0.274559 -0.584380   \n",
       "Equally Weighted                        0.362051        0.269465 -0.485455   \n",
       "Risk Parity Portfolio (50-50)           0.144134        0.102842 -0.711847   \n",
       "\n",
       "                               Excess Kurtosis  Cornish-Fisher VaR (5%)  \\\n",
       "DJIA Index                           15.436635                 0.025187   \n",
       "Equally Weighted                     18.729323                 0.022377   \n",
       "Risk Parity Portfolio (50-50)        19.424045                 0.008801   \n",
       "\n",
       "                               Gaussian VaR (5%)  Historic CVaR (5%)  \\\n",
       "DJIA Index                              0.027810            0.043137   \n",
       "Equally Weighted                        0.026521            0.040334   \n",
       "Risk Parity Portfolio (50-50)           0.010090            0.015339   \n",
       "\n",
       "                               Sharpe Ratio  Max Drawdown  \n",
       "DJIA Index                         0.406880     -0.370862  \n",
       "Equally Weighted                   1.293596     -0.319287  \n",
       "Risk Parity Portfolio (50-50)      1.291417     -0.134431  "
      ]
     },
     "execution_count": 16,
     "metadata": {},
     "output_type": "execute_result"
    }
   ],
   "source": [
    "rm.summary_stats(concat_rets, 0.01,period_freq=252)"
   ]
  },
  {
   "cell_type": "markdown",
   "metadata": {},
   "source": [
    "## Portfolio Allocation v/s Risk Allocation in a Risk Parity Portfolio"
   ]
  },
  {
   "cell_type": "code",
   "execution_count": 17,
   "metadata": {},
   "outputs": [],
   "source": [
    "df=pd.DataFrame(rbc.risk_contribution(optimal_weights, portfolio.cov()).T\n",
    "                ,columns=portfolio.columns,index=['Relative Risk Contribution']).T\n",
    "df['Portfolio Allocation']=optimal_weights.T"
   ]
  },
  {
   "cell_type": "code",
   "execution_count": 18,
   "metadata": {},
   "outputs": [
    {
     "data": {
      "text/plain": [
       "Text(0, 0.5, 'Allocation')"
      ]
     },
     "execution_count": 18,
     "metadata": {},
     "output_type": "execute_result"
    },
    {
     "data": {
      "image/png": "[encoded data removed]",
      "text/plain": [
       "<Figure size 1080x576 with 1 Axes>"
      ]
     },
     "metadata": {
      "needs_background": "light"
     },
     "output_type": "display_data"
    }
   ],
   "source": [
    "df.plot(kind=\"bar\",figsize=(15, 8))\n",
    "\n",
    "plt.title(\"Risk contribution of Risk Budgeted Portfolio\")\n",
    "plt.xlabel(\"Stocks\")\n",
    "plt.ylabel(\"Allocation\")"
   ]
  },
  {
   "cell_type": "markdown",
   "metadata": {},
   "source": [
    "## Portfolio Allocation v/s Risk Allocation in a Equally Weighted Portfolio"
   ]
  },
  {
   "cell_type": "code",
   "execution_count": 19,
   "metadata": {},
   "outputs": [],
   "source": [
    "weight_ew=np.repeat(1/n,n).reshape(-1,1)\n",
    "df2=pd.DataFrame(rbc.risk_contribution(weight_ew, portfolio.cov()).T\n",
    "                ,columns=portfolio.columns,index=['Relative Risk Contribution']).T\n",
    "df2['Portfolio Allocation']=weight_ew"
   ]
  },
  {
   "cell_type": "code",
   "execution_count": 20,
   "metadata": {},
   "outputs": [
    {
     "data": {
      "text/plain": [
       "Text(0, 0.5, 'Allocation')"
      ]
     },
     "execution_count": 20,
     "metadata": {},
     "output_type": "execute_result"
    },
    {
     "data": {
      "image/png": "[encoded data removed]",
      "text/plain": [
       "<Figure size 1080x576 with 1 Axes>"
      ]
     },
     "metadata": {
      "needs_background": "light"
     },
     "output_type": "display_data"
    }
   ],
   "source": [
    "df2.plot(kind=\"bar\",figsize=(15, 8))\n",
    "\n",
    "plt.title(\"Risk contribution of Equally Weighted Portfolio\")\n",
    "plt.xlabel(\"Stocks\")\n",
    "plt.ylabel(\"Allocation\")"
   ]
  }
 ],
 "metadata": {
  "kernelspec": {
   "display_name": "Python 3",
   "language": "python",
   "name": "python3"
  },
  "language_info": {
   "codemirror_mode": {
    "name": "ipython",
    "version": 3
   },
   "file_extension": ".py",
   "mimetype": "text/x-python",
   "name": "python",
   "nbconvert_exporter": "python",
   "pygments_lexer": "ipython3",
   "version": "3.7.4"
  }
 },
 "nbformat": 4,
 "nbformat_minor": 2
}
